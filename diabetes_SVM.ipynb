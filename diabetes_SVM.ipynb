{
 "metadata": {
  "name": "",
  "signature": "sha256:af2bf215c207f0b46408c3b54e893de7440178be83b0153641aaf24249c2699f"
 },
 "nbformat": 3,
 "nbformat_minor": 0,
 "worksheets": [
  {
   "cells": [
    {
     "cell_type": "code",
     "collapsed": false,
     "input": [
      "import numpy as np\n",
      "import pandas as pd\n",
      "import warnings\n",
      "\n",
      "with warnings.catch_warnings():\n",
      "    warnings.filterwarnings(\"ignore\",category=DeprecationWarning)\n",
      "    from sklearn import svm\n",
      "    from sklearn.externals import joblib"
     ],
     "language": "python",
     "metadata": {},
     "outputs": [],
     "prompt_number": 31
    },
    {
     "cell_type": "code",
     "collapsed": false,
     "input": [
      "data=np.genfromtxt('diabetes.csv',delimiter=',',skip_header=1)\n",
      "print data.shape\n",
      "print data[767]"
     ],
     "language": "python",
     "metadata": {},
     "outputs": [
      {
       "output_type": "stream",
       "stream": "stdout",
       "text": [
        "(768, 9)\n",
        "[  1.     93.     70.     31.      0.     30.4     0.315  23.      0.   ]\n"
       ]
      }
     ],
     "prompt_number": 32
    },
    {
     "cell_type": "code",
     "collapsed": false,
     "input": [
      "j=700\n",
      "train_x=np.ones((10,j,8))\n",
      "train_y=np.ones((10,j))\n",
      "test_x=np.ones((10,data.shape[0]-j,8))\n",
      "test_y=np.ones((10,data.shape[0]-j))\n",
      "print train_x.shape,train_y.shape\n",
      "print test_x.shape,test_y.shape\n",
      "\n",
      "for i in range(10):\n",
      "    np.random.shuffle(data)\n",
      "    train_x[i]=data[0:700,0:8]\n",
      "    train_y[i]=data[0:700,8]\n",
      "    test_x[i]=data[700:768,0:8]\n",
      "    test_y[i]=data[700:768,8]"
     ],
     "language": "python",
     "metadata": {},
     "outputs": [
      {
       "output_type": "stream",
       "stream": "stdout",
       "text": [
        "(10, 700, 8) (10, 700)\n",
        "(10, 68, 8) (10, 68)\n"
       ]
      }
     ],
     "prompt_number": 63
    },
    {
     "cell_type": "code",
     "collapsed": false,
     "input": [
      "print test_x[0,0]\n",
      "print test_y[0,0]"
     ],
     "language": "python",
     "metadata": {},
     "outputs": [
      {
       "output_type": "stream",
       "stream": "stdout",
       "text": [
        "[   0.    180.     78.     63.     14.     59.4     2.42   25.  ]\n",
        "1.0\n"
       ]
      }
     ],
     "prompt_number": 64
    },
    {
     "cell_type": "code",
     "collapsed": false,
     "input": [
      "for i in range(10):\n",
      "    clf=svm.SVC(gamma=0.0001,C=1000)\n",
      "    x,y=train_x[i],train_y[i]\n",
      "    clf.fit(x,y)\n",
      "    print \"SCORE\",i+1,\":\",clf.score(test_x[i],test_y[i])\n",
      "#i=0    \n",
      "#clf=svm.SVC(gamma=0.0001,C=1000)\n",
      "#x,y=train_x[i],train_y[i]\n",
      "#clf.fit(x,y)"
     ],
     "language": "python",
     "metadata": {},
     "outputs": [
      {
       "output_type": "stream",
       "stream": "stdout",
       "text": [
        "SCORE 1 : 0.735294117647\n",
        "SCORE"
       ]
      },
      {
       "output_type": "stream",
       "stream": "stdout",
       "text": [
        " 2 : 0.794117647059\n",
        "SCORE"
       ]
      },
      {
       "output_type": "stream",
       "stream": "stdout",
       "text": [
        " 3 : 0.705882352941\n",
        "SCORE"
       ]
      },
      {
       "output_type": "stream",
       "stream": "stdout",
       "text": [
        " 4 : 0.764705882353\n",
        "SCORE"
       ]
      },
      {
       "output_type": "stream",
       "stream": "stdout",
       "text": [
        " 5 : 0.794117647059\n",
        "SCORE"
       ]
      },
      {
       "output_type": "stream",
       "stream": "stdout",
       "text": [
        " 6 : 0.808823529412\n",
        "SCORE"
       ]
      },
      {
       "output_type": "stream",
       "stream": "stdout",
       "text": [
        " 7 : 0.661764705882\n",
        "SCORE"
       ]
      },
      {
       "output_type": "stream",
       "stream": "stdout",
       "text": [
        " 8 : 0.720588235294\n",
        "SCORE"
       ]
      },
      {
       "output_type": "stream",
       "stream": "stdout",
       "text": [
        " 9 : 0.691176470588\n",
        "SCORE"
       ]
      },
      {
       "output_type": "stream",
       "stream": "stdout",
       "text": [
        " 10 : 0.779411764706\n"
       ]
      }
     ],
     "prompt_number": 67
    },
    {
     "cell_type": "code",
     "collapsed": false,
     "input": [
      "j=13\n",
      "prediction =clf.predict(test_x[i,j])\n",
      "print test_y[i,j]\n",
      "print prediction"
     ],
     "language": "python",
     "metadata": {},
     "outputs": [
      {
       "output_type": "stream",
       "stream": "stdout",
       "text": [
        "1.0\n",
        "[ 0.]\n"
       ]
      }
     ],
     "prompt_number": 62
    },
    {
     "cell_type": "code",
     "collapsed": false,
     "input": [],
     "language": "python",
     "metadata": {},
     "outputs": [
      {
       "output_type": "stream",
       "stream": "stdout",
       "text": [
        "SCORE: 0.738095238095\n"
       ]
      }
     ],
     "prompt_number": 45
    },
    {
     "cell_type": "code",
     "collapsed": false,
     "input": [],
     "language": "python",
     "metadata": {},
     "outputs": []
    }
   ],
   "metadata": {}
  }
 ]
}